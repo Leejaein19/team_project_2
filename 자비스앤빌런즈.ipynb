{
 "cells": [
  {
   "cell_type": "markdown",
   "id": "controlling-leadership",
   "metadata": {},
   "source": [
    "# **자비스앤빌런즈 고객 DB로 데이터 분석**\n",
    "## **1. 서문**\n",
    "**1) 자비스앤빌런즈는?**  \n",
    "1. 회사의 세무업무를 대행해주고 경리업무를 지원하는 '자비스'\n",
    "2. 세금 환금 플랫폼인 '삼쩜삼'  \n",
    "\n",
    "이렇게 2가지로 나눠진다.\n",
    "\n",
    "**2) 본 프로젝트에 대하여**  \n",
    "자비스앤빌런즈에서 제공한 데이터는 환급금 컬럼이 있는것으로 봐서 '삼쩜삼' 데이터로 추측할 수 있다. 이 데이터를 이용하여  \n",
    "1. 고객의 결제여부에 영향을 미치는 요인들은 무엇인가?  \n",
    "2. 고객의 수수료 결제금액의 합을 높히기 위해서는 어떻게 해야 할까?  \n",
    "\n",
    "2가지를 확인해 보고자 한다.\n",
    "\n"
   ]
  },
  {
   "cell_type": "markdown",
   "id": "directed-momentum",
   "metadata": {},
   "source": [
    "## **2. EDA 및 데이터 전처리**"
   ]
  },
  {
   "cell_type": "code",
   "execution_count": 1,
   "id": "dried-simon",
   "metadata": {},
   "outputs": [],
   "source": [
    "import warnings\n",
    "warnings.filterwarnings('ignore')\n",
    "import pandas as pd\n",
    "import matplotlib.pyplot as plt\n",
    "plt.rcParams['font.size'] = 15\n",
    "plt.rcParams['font.family'] = 'NanumGothicCoding' \n",
    "import seaborn as sns"
   ]
  },
  {
   "cell_type": "code",
   "execution_count": 2,
   "id": "expressed-academy",
   "metadata": {},
   "outputs": [
    {
     "data": {
      "text/html": [
       "<div>\n",
       "<style scoped>\n",
       "    .dataframe tbody tr th:only-of-type {\n",
       "        vertical-align: middle;\n",
       "    }\n",
       "\n",
       "    .dataframe tbody tr th {\n",
       "        vertical-align: top;\n",
       "    }\n",
       "\n",
       "    .dataframe thead th {\n",
       "        text-align: right;\n",
       "    }\n",
       "</style>\n",
       "<table border=\"1\" class=\"dataframe\">\n",
       "  <thead>\n",
       "    <tr style=\"text-align: right;\">\n",
       "      <th></th>\n",
       "      <th>age</th>\n",
       "      <th>gender</th>\n",
       "      <th>year</th>\n",
       "      <th>refund</th>\n",
       "      <th>fee</th>\n",
       "      <th>has_paid</th>\n",
       "      <th>income_근로</th>\n",
       "      <th>income_사업</th>\n",
       "      <th>income_기타</th>\n",
       "    </tr>\n",
       "  </thead>\n",
       "  <tbody>\n",
       "    <tr>\n",
       "      <th>0</th>\n",
       "      <td>27.0</td>\n",
       "      <td>F</td>\n",
       "      <td>2019</td>\n",
       "      <td>5000.0</td>\n",
       "      <td>400.0</td>\n",
       "      <td>False</td>\n",
       "      <td>10001000.0</td>\n",
       "      <td>61000.0</td>\n",
       "      <td>NaN</td>\n",
       "    </tr>\n",
       "    <tr>\n",
       "      <th>1</th>\n",
       "      <td>34.0</td>\n",
       "      <td>M</td>\n",
       "      <td>2018</td>\n",
       "      <td>100000.0</td>\n",
       "      <td>1700.0</td>\n",
       "      <td>True</td>\n",
       "      <td>18092000.0</td>\n",
       "      <td>NaN</td>\n",
       "      <td>1815000.0</td>\n",
       "    </tr>\n",
       "    <tr>\n",
       "      <th>2</th>\n",
       "      <td>28.0</td>\n",
       "      <td>F</td>\n",
       "      <td>2017</td>\n",
       "      <td>289000.0</td>\n",
       "      <td>11500.0</td>\n",
       "      <td>False</td>\n",
       "      <td>NaN</td>\n",
       "      <td>1461000.0</td>\n",
       "      <td>NaN</td>\n",
       "    </tr>\n",
       "    <tr>\n",
       "      <th>3</th>\n",
       "      <td>27.0</td>\n",
       "      <td>M</td>\n",
       "      <td>2019</td>\n",
       "      <td>410000.0</td>\n",
       "      <td>16200.0</td>\n",
       "      <td>False</td>\n",
       "      <td>NaN</td>\n",
       "      <td>2471000.0</td>\n",
       "      <td>NaN</td>\n",
       "    </tr>\n",
       "    <tr>\n",
       "      <th>4</th>\n",
       "      <td>26.0</td>\n",
       "      <td>F</td>\n",
       "      <td>2016</td>\n",
       "      <td>114000.0</td>\n",
       "      <td>4300.0</td>\n",
       "      <td>True</td>\n",
       "      <td>0.0</td>\n",
       "      <td>689000.0</td>\n",
       "      <td>NaN</td>\n",
       "    </tr>\n",
       "    <tr>\n",
       "      <th>...</th>\n",
       "      <td>...</td>\n",
       "      <td>...</td>\n",
       "      <td>...</td>\n",
       "      <td>...</td>\n",
       "      <td>...</td>\n",
       "      <td>...</td>\n",
       "      <td>...</td>\n",
       "      <td>...</td>\n",
       "      <td>...</td>\n",
       "    </tr>\n",
       "    <tr>\n",
       "      <th>99995</th>\n",
       "      <td>27.0</td>\n",
       "      <td>F</td>\n",
       "      <td>2019</td>\n",
       "      <td>301000.0</td>\n",
       "      <td>11900.0</td>\n",
       "      <td>True</td>\n",
       "      <td>NaN</td>\n",
       "      <td>NaN</td>\n",
       "      <td>680000.0</td>\n",
       "    </tr>\n",
       "    <tr>\n",
       "      <th>99996</th>\n",
       "      <td>62.0</td>\n",
       "      <td>F</td>\n",
       "      <td>2019</td>\n",
       "      <td>77000.0</td>\n",
       "      <td>1300.0</td>\n",
       "      <td>True</td>\n",
       "      <td>NaN</td>\n",
       "      <td>463000.0</td>\n",
       "      <td>NaN</td>\n",
       "    </tr>\n",
       "    <tr>\n",
       "      <th>99997</th>\n",
       "      <td>24.0</td>\n",
       "      <td>M</td>\n",
       "      <td>2020</td>\n",
       "      <td>9000.0</td>\n",
       "      <td>400.0</td>\n",
       "      <td>False</td>\n",
       "      <td>7923000.0</td>\n",
       "      <td>54000.0</td>\n",
       "      <td>NaN</td>\n",
       "    </tr>\n",
       "    <tr>\n",
       "      <th>99998</th>\n",
       "      <td>24.0</td>\n",
       "      <td>M</td>\n",
       "      <td>2019</td>\n",
       "      <td>34000.0</td>\n",
       "      <td>400.0</td>\n",
       "      <td>True</td>\n",
       "      <td>NaN</td>\n",
       "      <td>204000.0</td>\n",
       "      <td>NaN</td>\n",
       "    </tr>\n",
       "    <tr>\n",
       "      <th>99999</th>\n",
       "      <td>23.0</td>\n",
       "      <td>F</td>\n",
       "      <td>2019</td>\n",
       "      <td>34000.0</td>\n",
       "      <td>400.0</td>\n",
       "      <td>True</td>\n",
       "      <td>7344000.0</td>\n",
       "      <td>205000.0</td>\n",
       "      <td>NaN</td>\n",
       "    </tr>\n",
       "  </tbody>\n",
       "</table>\n",
       "<p>100000 rows × 9 columns</p>\n",
       "</div>"
      ],
      "text/plain": [
       "        age gender  year    refund      fee  has_paid   income_근로  income_사업  \\\n",
       "0      27.0      F  2019    5000.0    400.0     False  10001000.0    61000.0   \n",
       "1      34.0      M  2018  100000.0   1700.0      True  18092000.0        NaN   \n",
       "2      28.0      F  2017  289000.0  11500.0     False         NaN  1461000.0   \n",
       "3      27.0      M  2019  410000.0  16200.0     False         NaN  2471000.0   \n",
       "4      26.0      F  2016  114000.0   4300.0      True         0.0   689000.0   \n",
       "...     ...    ...   ...       ...      ...       ...         ...        ...   \n",
       "99995  27.0      F  2019  301000.0  11900.0      True         NaN        NaN   \n",
       "99996  62.0      F  2019   77000.0   1300.0      True         NaN   463000.0   \n",
       "99997  24.0      M  2020    9000.0    400.0     False   7923000.0    54000.0   \n",
       "99998  24.0      M  2019   34000.0    400.0      True         NaN   204000.0   \n",
       "99999  23.0      F  2019   34000.0    400.0      True   7344000.0   205000.0   \n",
       "\n",
       "       income_기타  \n",
       "0            NaN  \n",
       "1      1815000.0  \n",
       "2            NaN  \n",
       "3            NaN  \n",
       "4            NaN  \n",
       "...          ...  \n",
       "99995   680000.0  \n",
       "99996        NaN  \n",
       "99997        NaN  \n",
       "99998        NaN  \n",
       "99999        NaN  \n",
       "\n",
       "[100000 rows x 9 columns]"
      ]
     },
     "execution_count": 2,
     "metadata": {},
     "output_type": "execute_result"
    }
   ],
   "source": [
    "df = pd.read_csv('./Jobis_3o3.csv')\n",
    "df"
   ]
  },
  {
   "cell_type": "code",
   "execution_count": 3,
   "id": "frozen-prague",
   "metadata": {},
   "outputs": [
    {
     "name": "stdout",
     "output_type": "stream",
     "text": [
      "<class 'pandas.core.frame.DataFrame'>\n",
      "RangeIndex: 100000 entries, 0 to 99999\n",
      "Data columns (total 9 columns):\n",
      " #   Column     Non-Null Count   Dtype  \n",
      "---  ------     --------------   -----  \n",
      " 0   age        100000 non-null  float64\n",
      " 1   gender     100000 non-null  object \n",
      " 2   year       100000 non-null  int64  \n",
      " 3   refund     100000 non-null  float64\n",
      " 4   fee        100000 non-null  float64\n",
      " 5   has_paid   100000 non-null  bool   \n",
      " 6   income_근로  40791 non-null   float64\n",
      " 7   income_사업  78227 non-null   float64\n",
      " 8   income_기타  25260 non-null   float64\n",
      "dtypes: bool(1), float64(6), int64(1), object(1)\n",
      "memory usage: 6.2+ MB\n"
     ]
    }
   ],
   "source": [
    "# 전체 데이터 정보확인. 3가지 수입정보에서 NaN값이 많이 보인다\n",
    "df.info()"
   ]
  },
  {
   "cell_type": "code",
   "execution_count": 4,
   "id": "rolled-brazilian",
   "metadata": {},
   "outputs": [
    {
     "name": "stdout",
     "output_type": "stream",
     "text": [
      "<class 'pandas.core.frame.DataFrame'>\n",
      "RangeIndex: 100000 entries, 0 to 99999\n",
      "Data columns (total 9 columns):\n",
      " #   Column     Non-Null Count   Dtype  \n",
      "---  ------     --------------   -----  \n",
      " 0   age        100000 non-null  float64\n",
      " 1   gender     100000 non-null  object \n",
      " 2   year       100000 non-null  int64  \n",
      " 3   refund     100000 non-null  float64\n",
      " 4   fee        100000 non-null  float64\n",
      " 5   has_paid   100000 non-null  bool   \n",
      " 6   income_근로  100000 non-null  object \n",
      " 7   income_사업  100000 non-null  object \n",
      " 8   income_기타  100000 non-null  object \n",
      "dtypes: bool(1), float64(3), int64(1), object(4)\n",
      "memory usage: 6.2+ MB\n"
     ]
    }
   ],
   "source": [
    "# 수입이 NaN이라는 것은 '없다'는 말과 같다고 볼 수있다. 따라서 결측값을 모두 0으로 바꾼다.\n",
    "df = df.fillna('0')\n",
    "df.info()"
   ]
  },
  {
   "cell_type": "code",
   "execution_count": 5,
   "id": "electric-juice",
   "metadata": {},
   "outputs": [
    {
     "name": "stdout",
     "output_type": "stream",
     "text": [
      "<class 'pandas.core.frame.DataFrame'>\n",
      "RangeIndex: 100000 entries, 0 to 99999\n",
      "Data columns (total 9 columns):\n",
      " #   Column     Non-Null Count   Dtype  \n",
      "---  ------     --------------   -----  \n",
      " 0   age        100000 non-null  float64\n",
      " 1   gender     100000 non-null  object \n",
      " 2   year       100000 non-null  int64  \n",
      " 3   refund     100000 non-null  float64\n",
      " 4   fee        100000 non-null  float64\n",
      " 5   has_paid   100000 non-null  bool   \n",
      " 6   income_근로  100000 non-null  int64  \n",
      " 7   income_사업  100000 non-null  int64  \n",
      " 8   income_기타  100000 non-null  int64  \n",
      "dtypes: bool(1), float64(3), int64(4), object(1)\n",
      "memory usage: 6.2+ MB\n"
     ]
    }
   ],
   "source": [
    "# 3가지 수입의 데이터 타입을 계산 가능하도록 int로 변경한다. \n",
    "df['income_근로']=df['income_근로'].astype('int64')\n",
    "df['income_사업']=df['income_사업'].astype('int64')\n",
    "df['income_기타']=df['income_기타'].astype('int64')\n",
    "df.info()"
   ]
  },
  {
   "cell_type": "code",
   "execution_count": 6,
   "id": "valid-tiger",
   "metadata": {},
   "outputs": [
    {
     "data": {
      "text/html": [
       "<div>\n",
       "<style scoped>\n",
       "    .dataframe tbody tr th:only-of-type {\n",
       "        vertical-align: middle;\n",
       "    }\n",
       "\n",
       "    .dataframe tbody tr th {\n",
       "        vertical-align: top;\n",
       "    }\n",
       "\n",
       "    .dataframe thead th {\n",
       "        text-align: right;\n",
       "    }\n",
       "</style>\n",
       "<table border=\"1\" class=\"dataframe\">\n",
       "  <thead>\n",
       "    <tr style=\"text-align: right;\">\n",
       "      <th></th>\n",
       "      <th>age</th>\n",
       "      <th>year</th>\n",
       "      <th>refund</th>\n",
       "      <th>fee</th>\n",
       "      <th>income_근로</th>\n",
       "      <th>income_사업</th>\n",
       "      <th>income_기타</th>\n",
       "    </tr>\n",
       "  </thead>\n",
       "  <tbody>\n",
       "    <tr>\n",
       "      <th>mean</th>\n",
       "      <td>29.00096</td>\n",
       "      <td>2018.111300</td>\n",
       "      <td>2.081422e+05</td>\n",
       "      <td>7247.641000</td>\n",
       "      <td>2.623921e+06</td>\n",
       "      <td>1.182567e+06</td>\n",
       "      <td>1.607252e+05</td>\n",
       "    </tr>\n",
       "    <tr>\n",
       "      <th>std</th>\n",
       "      <td>7.76819</td>\n",
       "      <td>1.495812</td>\n",
       "      <td>3.071744e+05</td>\n",
       "      <td>11926.896979</td>\n",
       "      <td>5.260655e+06</td>\n",
       "      <td>2.254789e+06</td>\n",
       "      <td>7.958761e+05</td>\n",
       "    </tr>\n",
       "    <tr>\n",
       "      <th>min</th>\n",
       "      <td>15.00000</td>\n",
       "      <td>2015.000000</td>\n",
       "      <td>-8.265000e+06</td>\n",
       "      <td>400.000000</td>\n",
       "      <td>0.000000e+00</td>\n",
       "      <td>0.000000e+00</td>\n",
       "      <td>0.000000e+00</td>\n",
       "    </tr>\n",
       "    <tr>\n",
       "      <th>25%</th>\n",
       "      <td>24.00000</td>\n",
       "      <td>2017.000000</td>\n",
       "      <td>3.300000e+04</td>\n",
       "      <td>400.000000</td>\n",
       "      <td>0.000000e+00</td>\n",
       "      <td>3.100000e+04</td>\n",
       "      <td>0.000000e+00</td>\n",
       "    </tr>\n",
       "    <tr>\n",
       "      <th>50%</th>\n",
       "      <td>27.00000</td>\n",
       "      <td>2018.000000</td>\n",
       "      <td>9.900000e+04</td>\n",
       "      <td>4300.000000</td>\n",
       "      <td>0.000000e+00</td>\n",
       "      <td>3.280000e+05</td>\n",
       "      <td>0.000000e+00</td>\n",
       "    </tr>\n",
       "    <tr>\n",
       "      <th>75%</th>\n",
       "      <td>31.00000</td>\n",
       "      <td>2019.000000</td>\n",
       "      <td>2.540000e+05</td>\n",
       "      <td>8500.000000</td>\n",
       "      <td>2.994000e+06</td>\n",
       "      <td>1.235000e+06</td>\n",
       "      <td>2.000000e+03</td>\n",
       "    </tr>\n",
       "    <tr>\n",
       "      <th>max</th>\n",
       "      <td>81.00000</td>\n",
       "      <td>2020.000000</td>\n",
       "      <td>7.725000e+06</td>\n",
       "      <td>307000.000000</td>\n",
       "      <td>1.823350e+08</td>\n",
       "      <td>3.993400e+07</td>\n",
       "      <td>6.281000e+07</td>\n",
       "    </tr>\n",
       "  </tbody>\n",
       "</table>\n",
       "</div>"
      ],
      "text/plain": [
       "           age         year        refund            fee     income_근로  \\\n",
       "mean  29.00096  2018.111300  2.081422e+05    7247.641000  2.623921e+06   \n",
       "std    7.76819     1.495812  3.071744e+05   11926.896979  5.260655e+06   \n",
       "min   15.00000  2015.000000 -8.265000e+06     400.000000  0.000000e+00   \n",
       "25%   24.00000  2017.000000  3.300000e+04     400.000000  0.000000e+00   \n",
       "50%   27.00000  2018.000000  9.900000e+04    4300.000000  0.000000e+00   \n",
       "75%   31.00000  2019.000000  2.540000e+05    8500.000000  2.994000e+06   \n",
       "max   81.00000  2020.000000  7.725000e+06  307000.000000  1.823350e+08   \n",
       "\n",
       "         income_사업     income_기타  \n",
       "mean  1.182567e+06  1.607252e+05  \n",
       "std   2.254789e+06  7.958761e+05  \n",
       "min   0.000000e+00  0.000000e+00  \n",
       "25%   3.100000e+04  0.000000e+00  \n",
       "50%   3.280000e+05  0.000000e+00  \n",
       "75%   1.235000e+06  2.000000e+03  \n",
       "max   3.993400e+07  6.281000e+07  "
      ]
     },
     "execution_count": 6,
     "metadata": {},
     "output_type": "execute_result"
    }
   ],
   "source": [
    "# 10만개의 전체 데이터 통계. \n",
    "df.describe().iloc[1:]"
   ]
  },
  {
   "cell_type": "markdown",
   "id": "loose-paint",
   "metadata": {},
   "source": [
    "데이터 통계자료를 봤을 때 전체적으로 편차가 심해 평균 데이터는 유용하지 않다.  \n",
    "단, 나이는 어린 사용자가 많아 보이고, refund 컬럼에서는 마이너스 값도 나오는것이 확인된다.  \n",
    "마지막으로 결제를 한 사람과 그렇지 않은 사람의 수를 확인해보자."
   ]
  },
  {
   "cell_type": "code",
   "execution_count": 7,
   "id": "arranged-mauritius",
   "metadata": {},
   "outputs": [
    {
     "name": "stdout",
     "output_type": "stream",
     "text": [
      "결제를 한 사람 수: 64643명\n",
      "결제를 하지 않은 사람 수: 35357명\n"
     ]
    }
   ],
   "source": [
    "# 전체 데이터에서 결제를 한 사람수의 비율\n",
    "print('결제를 한 사람 수: {}명'.format(df[df['has_paid'] == True]['has_paid'].count()))\n",
    "print('결제를 하지 않은 사람 수: {}명'.format(df[df['has_paid'] == False]['has_paid'].count()))"
   ]
  },
  {
   "cell_type": "markdown",
   "id": "sustained-girlfriend",
   "metadata": {},
   "source": [
    "## **3. 고객의 결제여부에 영향을 미치는 요인들은 무엇인가?**"
   ]
  },
  {
   "cell_type": "markdown",
   "id": "grave-landing",
   "metadata": {},
   "source": [
    "### **1) 시각화를 통한 '결제여부' 컬럼과의 관계 확인**\n",
    "결제여부와의 영향을 알아보기 위함이기 때문에 모든 컬럼을 has_paid 컬럼과 비교하여 관계를 확인한다."
   ]
  },
  {
   "cell_type": "markdown",
   "id": "swiss-venue",
   "metadata": {},
   "source": [
    "**1. 나이와 결제여부 (age - has_paid)**  \n",
    "나이는 10살 간격으로 나누었다."
   ]
  },
  {
   "cell_type": "code",
   "execution_count": 8,
   "id": "altered-liberal",
   "metadata": {},
   "outputs": [
    {
     "data": {
      "text/html": [
       "<div>\n",
       "<style scoped>\n",
       "    .dataframe tbody tr th:only-of-type {\n",
       "        vertical-align: middle;\n",
       "    }\n",
       "\n",
       "    .dataframe tbody tr th {\n",
       "        vertical-align: top;\n",
       "    }\n",
       "\n",
       "    .dataframe thead th {\n",
       "        text-align: right;\n",
       "    }\n",
       "</style>\n",
       "<table border=\"1\" class=\"dataframe\">\n",
       "  <thead>\n",
       "    <tr style=\"text-align: right;\">\n",
       "      <th>has_paid</th>\n",
       "      <th>False</th>\n",
       "      <th>True</th>\n",
       "      <th>합</th>\n",
       "      <th>결제비율(%)</th>\n",
       "    </tr>\n",
       "    <tr>\n",
       "      <th>section</th>\n",
       "      <th></th>\n",
       "      <th></th>\n",
       "      <th></th>\n",
       "      <th></th>\n",
       "    </tr>\n",
       "  </thead>\n",
       "  <tbody>\n",
       "    <tr>\n",
       "      <th>10대</th>\n",
       "      <td>393</td>\n",
       "      <td>886</td>\n",
       "      <td>1279</td>\n",
       "      <td>69.3</td>\n",
       "    </tr>\n",
       "    <tr>\n",
       "      <th>20대</th>\n",
       "      <td>23215</td>\n",
       "      <td>43762</td>\n",
       "      <td>66977</td>\n",
       "      <td>65.3</td>\n",
       "    </tr>\n",
       "    <tr>\n",
       "      <th>30대</th>\n",
       "      <td>8083</td>\n",
       "      <td>14099</td>\n",
       "      <td>22182</td>\n",
       "      <td>63.6</td>\n",
       "    </tr>\n",
       "    <tr>\n",
       "      <th>40대</th>\n",
       "      <td>2303</td>\n",
       "      <td>3604</td>\n",
       "      <td>5907</td>\n",
       "      <td>61.0</td>\n",
       "    </tr>\n",
       "    <tr>\n",
       "      <th>50대</th>\n",
       "      <td>1196</td>\n",
       "      <td>1927</td>\n",
       "      <td>3123</td>\n",
       "      <td>61.7</td>\n",
       "    </tr>\n",
       "    <tr>\n",
       "      <th>60대</th>\n",
       "      <td>158</td>\n",
       "      <td>329</td>\n",
       "      <td>487</td>\n",
       "      <td>67.6</td>\n",
       "    </tr>\n",
       "    <tr>\n",
       "      <th>70대이상</th>\n",
       "      <td>9</td>\n",
       "      <td>36</td>\n",
       "      <td>45</td>\n",
       "      <td>80.0</td>\n",
       "    </tr>\n",
       "  </tbody>\n",
       "</table>\n",
       "</div>"
      ],
      "text/plain": [
       "has_paid  False   True      합  결제비율(%)\n",
       "section                               \n",
       "10대         393    886   1279     69.3\n",
       "20대       23215  43762  66977     65.3\n",
       "30대        8083  14099  22182     63.6\n",
       "40대        2303   3604   5907     61.0\n",
       "50대        1196   1927   3123     61.7\n",
       "60대         158    329    487     67.6\n",
       "70대이상         9     36     45     80.0"
      ]
     },
     "execution_count": 8,
     "metadata": {},
     "output_type": "execute_result"
    }
   ],
   "source": [
    "age_df = df.copy()\n",
    "age_df['section'] = ''\n",
    "\n",
    "age_df['section'][age_df['age']<20] = '10대'\n",
    "age_df['section'][(age_df['age']<30) & (age_df['age']>=20)] = '20대'\n",
    "age_df['section'][(age_df['age']<40) & (age_df['age']>=30)] = '30대'\n",
    "age_df['section'][(age_df['age']<50) & (age_df['age']>=40)] = '40대'\n",
    "age_df['section'][(age_df['age']<60) & (age_df['age']>=50)] = '50대'\n",
    "age_df['section'][(age_df['age']<70) & (age_df['age']>=60)] = '60대'\n",
    "age_df['section'][age_df['age']>=70] = '70대이상'\n",
    "\n",
    "age_df = pd.crosstab(age_df['section'], age_df['has_paid'])\n",
    "age_df['합'] = age_df[0] + age_df[1]\n",
    "age_df['결제비율(%)'] = round(age_df[1] / age_df['합'],3) * 100\n",
    "age_df"
   ]
  },
  {
   "cell_type": "code",
   "execution_count": 9,
   "id": "virgin-transfer",
   "metadata": {},
   "outputs": [
    {
     "data": {
      "image/png": "[encoded data removed]",
      "text/plain": [
       "<Figure size 1152x576 with 1 Axes>"
      ]
     },
     "metadata": {
      "needs_background": "light"
     },
     "output_type": "display_data"
    }
   ],
   "source": [
    "plt.figure(figsize=(16,8))\n",
    "sns.barplot(data=age_df, x=age_df.index, y='결제비율(%)')\n",
    "plt.title('나이 별 결제비율', fontsize=20);"
   ]
  },
  {
   "cell_type": "markdown",
   "id": "together-preserve",
   "metadata": {},
   "source": [
    "- 10~40대까지는 결제율이 소폭 감소하다가 이후로는 증가한다.\n",
    "- 하지만 70대를 제외한 모든 연령대에서 전체 결제율(약 65%)에 비슷한 수준이다.\n",
    "- 70대는 독보적으로 비율이 높지만 의미를 두기엔 데이터 양이 굉장히 적다.\n",
    "- 따라서 **나이별로 결제여부를 확인하는 것은 유의미하지 않다.**"
   ]
  },
  {
   "cell_type": "markdown",
   "id": "continued-suite",
   "metadata": {},
   "source": [
    "**2. 성별과 결제여부 (gender - has_paid)**"
   ]
  },
  {
   "cell_type": "code",
   "execution_count": 10,
   "id": "historical-survey",
   "metadata": {},
   "outputs": [
    {
     "data": {
      "text/html": [
       "<div>\n",
       "<style scoped>\n",
       "    .dataframe tbody tr th:only-of-type {\n",
       "        vertical-align: middle;\n",
       "    }\n",
       "\n",
       "    .dataframe tbody tr th {\n",
       "        vertical-align: top;\n",
       "    }\n",
       "\n",
       "    .dataframe thead th {\n",
       "        text-align: right;\n",
       "    }\n",
       "</style>\n",
       "<table border=\"1\" class=\"dataframe\">\n",
       "  <thead>\n",
       "    <tr style=\"text-align: right;\">\n",
       "      <th>has_paid</th>\n",
       "      <th>False</th>\n",
       "      <th>True</th>\n",
       "      <th>합</th>\n",
       "      <th>결제비율(%)</th>\n",
       "    </tr>\n",
       "    <tr>\n",
       "      <th>gender</th>\n",
       "      <th></th>\n",
       "      <th></th>\n",
       "      <th></th>\n",
       "      <th></th>\n",
       "    </tr>\n",
       "  </thead>\n",
       "  <tbody>\n",
       "    <tr>\n",
       "      <th>-</th>\n",
       "      <td>18</td>\n",
       "      <td>4</td>\n",
       "      <td>22</td>\n",
       "      <td>18.2</td>\n",
       "    </tr>\n",
       "    <tr>\n",
       "      <th>F</th>\n",
       "      <td>18114</td>\n",
       "      <td>31387</td>\n",
       "      <td>49501</td>\n",
       "      <td>63.4</td>\n",
       "    </tr>\n",
       "    <tr>\n",
       "      <th>M</th>\n",
       "      <td>17225</td>\n",
       "      <td>33252</td>\n",
       "      <td>50477</td>\n",
       "      <td>65.9</td>\n",
       "    </tr>\n",
       "  </tbody>\n",
       "</table>\n",
       "</div>"
      ],
      "text/plain": [
       "has_paid  False   True      합  결제비율(%)\n",
       "gender                                \n",
       "-            18      4     22     18.2\n",
       "F         18114  31387  49501     63.4\n",
       "M         17225  33252  50477     65.9"
      ]
     },
     "execution_count": 10,
     "metadata": {},
     "output_type": "execute_result"
    }
   ],
   "source": [
    "gender_df = df.copy()\n",
    "gender_df = pd.crosstab(gender_df['gender'], gender_df['has_paid'])\n",
    "gender_df['합'] = gender_df[0] + gender_df[1]\n",
    "gender_df['결제비율(%)'] = round(gender_df[1] / gender_df['합'],3) * 100\n",
    "gender_df"
   ]
  },
  {
   "cell_type": "code",
   "execution_count": 11,
   "id": "buried-collaboration",
   "metadata": {},
   "outputs": [
    {
     "data": {
      "image/png": "[encoded data removed]",
      "text/plain": [
       "<Figure size 1152x576 with 1 Axes>"
      ]
     },
     "metadata": {
      "needs_background": "light"
     },
     "output_type": "display_data"
    }
   ],
   "source": [
    "plt.figure(figsize=(16,8))\n",
    "sns.barplot(data=gender_df, x=gender_df.index, y='결제비율(%)')\n",
    "plt.title('성별 별 결제비율', fontsize=20);"
   ]
  },
  {
   "cell_type": "markdown",
   "id": "large-compatibility",
   "metadata": {},
   "source": [
    "- 잘못된 값 (-)이 들어가 있지만 그 갯수가 22개로 전체 결과에 영향이 없을정도로 굉장히 적으므로 무시해도 무방하다.\n",
    "- 각 성별에 대한 결제비율이 비슷하므로 **성별로 확인하는 것은 유의미하지 않다.**"
   ]
  },
  {
   "cell_type": "markdown",
   "id": "light-parker",
   "metadata": {},
   "source": [
    "**3. 연도와 결제여부 (year - has_paid)**"
   ]
  },
  {
   "cell_type": "code",
   "execution_count": 12,
   "id": "obvious-wallpaper",
   "metadata": {},
   "outputs": [
    {
     "data": {
      "text/html": [
       "<div>\n",
       "<style scoped>\n",
       "    .dataframe tbody tr th:only-of-type {\n",
       "        vertical-align: middle;\n",
       "    }\n",
       "\n",
       "    .dataframe tbody tr th {\n",
       "        vertical-align: top;\n",
       "    }\n",
       "\n",
       "    .dataframe thead th {\n",
       "        text-align: right;\n",
       "    }\n",
       "</style>\n",
       "<table border=\"1\" class=\"dataframe\">\n",
       "  <thead>\n",
       "    <tr style=\"text-align: right;\">\n",
       "      <th>has_paid</th>\n",
       "      <th>False</th>\n",
       "      <th>True</th>\n",
       "      <th>합</th>\n",
       "      <th>결제비율(%)</th>\n",
       "    </tr>\n",
       "    <tr>\n",
       "      <th>year</th>\n",
       "      <th></th>\n",
       "      <th></th>\n",
       "      <th></th>\n",
       "      <th></th>\n",
       "    </tr>\n",
       "  </thead>\n",
       "  <tbody>\n",
       "    <tr>\n",
       "      <th>2015</th>\n",
       "      <td>1153</td>\n",
       "      <td>2832</td>\n",
       "      <td>3985</td>\n",
       "      <td>71.1</td>\n",
       "    </tr>\n",
       "    <tr>\n",
       "      <th>2016</th>\n",
       "      <td>4215</td>\n",
       "      <td>9698</td>\n",
       "      <td>13913</td>\n",
       "      <td>69.7</td>\n",
       "    </tr>\n",
       "    <tr>\n",
       "      <th>2017</th>\n",
       "      <td>5291</td>\n",
       "      <td>12204</td>\n",
       "      <td>17495</td>\n",
       "      <td>69.8</td>\n",
       "    </tr>\n",
       "    <tr>\n",
       "      <th>2018</th>\n",
       "      <td>6095</td>\n",
       "      <td>13888</td>\n",
       "      <td>19983</td>\n",
       "      <td>69.5</td>\n",
       "    </tr>\n",
       "    <tr>\n",
       "      <th>2019</th>\n",
       "      <td>6361</td>\n",
       "      <td>14481</td>\n",
       "      <td>20842</td>\n",
       "      <td>69.5</td>\n",
       "    </tr>\n",
       "    <tr>\n",
       "      <th>2020</th>\n",
       "      <td>12242</td>\n",
       "      <td>11540</td>\n",
       "      <td>23782</td>\n",
       "      <td>48.5</td>\n",
       "    </tr>\n",
       "  </tbody>\n",
       "</table>\n",
       "</div>"
      ],
      "text/plain": [
       "has_paid  False   True      합  결제비율(%)\n",
       "year                                  \n",
       "2015       1153   2832   3985     71.1\n",
       "2016       4215   9698  13913     69.7\n",
       "2017       5291  12204  17495     69.8\n",
       "2018       6095  13888  19983     69.5\n",
       "2019       6361  14481  20842     69.5\n",
       "2020      12242  11540  23782     48.5"
      ]
     },
     "execution_count": 12,
     "metadata": {},
     "output_type": "execute_result"
    }
   ],
   "source": [
    "year_df = df.copy()\n",
    "year_df = pd.crosstab(year_df['year'], year_df['has_paid'])\n",
    "year_df['합'] = year_df[0] + year_df[1]\n",
    "year_df['결제비율(%)'] = round(year_df[1] / year_df['합'],3) * 100\n",
    "year_df"
   ]
  },
  {
   "cell_type": "code",
   "execution_count": 13,
   "id": "accurate-responsibility",
   "metadata": {},
   "outputs": [
    {
     "data": {
      "image/png": "[encoded data removed]",
      "text/plain": [
       "<Figure size 1152x576 with 1 Axes>"
      ]
     },
     "metadata": {
      "needs_background": "light"
     },
     "output_type": "display_data"
    }
   ],
   "source": [
    "plt.figure(figsize=(16,8))\n",
    "sns.barplot(data=year_df, x=year_df.index, y='결제비율(%)')\n",
    "plt.title('연도 별 결제비율', fontsize=20);"
   ]
  },
  {
   "cell_type": "markdown",
   "id": "olympic-chaos",
   "metadata": {},
   "source": [
    "- 2015년 부터 매해 70%정도의 사용자가 결제를 했지만 2020년에 결제비율이 50% 이하로 급감했다.\n",
    "- 2020년에 결제율이 급락한 부분은 생각해볼 필요가 있다."
   ]
  },
  {
   "cell_type": "markdown",
   "id": "thermal-glossary",
   "metadata": {},
   "source": [
    "**4. 환급금액과 결제여부 (refund - has_paid)**  \n",
    "환급금액의 간격은 최초 마이너스 금액부터 시작하여 2만원씩 구간을 나누었다."
   ]
  },
  {
   "cell_type": "code",
   "execution_count": 14,
   "id": "hawaiian-cutting",
   "metadata": {
    "scrolled": false
   },
   "outputs": [
    {
     "data": {
      "text/html": [
       "<div>\n",
       "<style scoped>\n",
       "    .dataframe tbody tr th:only-of-type {\n",
       "        vertical-align: middle;\n",
       "    }\n",
       "\n",
       "    .dataframe tbody tr th {\n",
       "        vertical-align: top;\n",
       "    }\n",
       "\n",
       "    .dataframe thead th {\n",
       "        text-align: right;\n",
       "    }\n",
       "</style>\n",
       "<table border=\"1\" class=\"dataframe\">\n",
       "  <thead>\n",
       "    <tr style=\"text-align: right;\">\n",
       "      <th>has_paid</th>\n",
       "      <th>False</th>\n",
       "      <th>True</th>\n",
       "      <th>합</th>\n",
       "      <th>결제비율(%)</th>\n",
       "    </tr>\n",
       "    <tr>\n",
       "      <th>section</th>\n",
       "      <th></th>\n",
       "      <th></th>\n",
       "      <th></th>\n",
       "      <th></th>\n",
       "    </tr>\n",
       "  </thead>\n",
       "  <tbody>\n",
       "    <tr>\n",
       "      <th>0 이하</th>\n",
       "      <td>8</td>\n",
       "      <td>7</td>\n",
       "      <td>15</td>\n",
       "      <td>46.7</td>\n",
       "    </tr>\n",
       "    <tr>\n",
       "      <th>0~2</th>\n",
       "      <td>7014</td>\n",
       "      <td>9889</td>\n",
       "      <td>16903</td>\n",
       "      <td>58.5</td>\n",
       "    </tr>\n",
       "    <tr>\n",
       "      <th>10~12</th>\n",
       "      <td>1519</td>\n",
       "      <td>3223</td>\n",
       "      <td>4742</td>\n",
       "      <td>68.0</td>\n",
       "    </tr>\n",
       "    <tr>\n",
       "      <th>12~14</th>\n",
       "      <td>1319</td>\n",
       "      <td>2625</td>\n",
       "      <td>3944</td>\n",
       "      <td>66.6</td>\n",
       "    </tr>\n",
       "    <tr>\n",
       "      <th>14~16</th>\n",
       "      <td>1270</td>\n",
       "      <td>2577</td>\n",
       "      <td>3847</td>\n",
       "      <td>67.0</td>\n",
       "    </tr>\n",
       "    <tr>\n",
       "      <th>16~18</th>\n",
       "      <td>1011</td>\n",
       "      <td>2151</td>\n",
       "      <td>3162</td>\n",
       "      <td>68.0</td>\n",
       "    </tr>\n",
       "    <tr>\n",
       "      <th>18~20</th>\n",
       "      <td>891</td>\n",
       "      <td>1839</td>\n",
       "      <td>2730</td>\n",
       "      <td>67.4</td>\n",
       "    </tr>\n",
       "    <tr>\n",
       "      <th>20이상</th>\n",
       "      <td>12441</td>\n",
       "      <td>18873</td>\n",
       "      <td>31314</td>\n",
       "      <td>60.3</td>\n",
       "    </tr>\n",
       "    <tr>\n",
       "      <th>2~4</th>\n",
       "      <td>3557</td>\n",
       "      <td>8371</td>\n",
       "      <td>11928</td>\n",
       "      <td>70.2</td>\n",
       "    </tr>\n",
       "    <tr>\n",
       "      <th>4~6</th>\n",
       "      <td>2617</td>\n",
       "      <td>6328</td>\n",
       "      <td>8945</td>\n",
       "      <td>70.7</td>\n",
       "    </tr>\n",
       "    <tr>\n",
       "      <th>6~8</th>\n",
       "      <td>2064</td>\n",
       "      <td>4871</td>\n",
       "      <td>6935</td>\n",
       "      <td>70.2</td>\n",
       "    </tr>\n",
       "    <tr>\n",
       "      <th>8~10</th>\n",
       "      <td>1646</td>\n",
       "      <td>3889</td>\n",
       "      <td>5535</td>\n",
       "      <td>70.3</td>\n",
       "    </tr>\n",
       "  </tbody>\n",
       "</table>\n",
       "</div>"
      ],
      "text/plain": [
       "has_paid  False   True      합  결제비율(%)\n",
       "section                               \n",
       "0 이하          8      7     15     46.7\n",
       "0~2        7014   9889  16903     58.5\n",
       "10~12      1519   3223   4742     68.0\n",
       "12~14      1319   2625   3944     66.6\n",
       "14~16      1270   2577   3847     67.0\n",
       "16~18      1011   2151   3162     68.0\n",
       "18~20       891   1839   2730     67.4\n",
       "20이상      12441  18873  31314     60.3\n",
       "2~4        3557   8371  11928     70.2\n",
       "4~6        2617   6328   8945     70.7\n",
       "6~8        2064   4871   6935     70.2\n",
       "8~10       1646   3889   5535     70.3"
      ]
     },
     "execution_count": 14,
     "metadata": {},
     "output_type": "execute_result"
    }
   ],
   "source": [
    "# 환급금액은 높아질수록 결제비율이 높아진다.\n",
    "refund_df = df.copy()\n",
    "refund_df['section'] =''\n",
    "\n",
    "refund_df['section'][refund_df['refund']<0] = '0 이하'\n",
    "refund_df['section'][(refund_df['refund']<20000) & (refund_df['refund']>=0)] = '0~2'\n",
    "refund_df['section'][(refund_df['refund']<40000) & (refund_df['refund']>=20000)] = '2~4'\n",
    "refund_df['section'][(refund_df['refund']<60000) & (refund_df['refund']>=40000)] = '4~6'\n",
    "refund_df['section'][(refund_df['refund']<80000) & (refund_df['refund']>=60000)] = '6~8'\n",
    "refund_df['section'][(refund_df['refund']<100000) & (refund_df['refund']>=80000)] = '8~10'\n",
    "refund_df['section'][(refund_df['refund']<120000) & (refund_df['refund']>=100000)] = '10~12'\n",
    "refund_df['section'][(refund_df['refund']<140000) & (refund_df['refund']>=120000)] = '12~14'\n",
    "refund_df['section'][(refund_df['refund']<160000) & (refund_df['refund']>=140000)] = '14~16'\n",
    "refund_df['section'][(refund_df['refund']<180000) & (refund_df['refund']>=160000)] = '16~18'\n",
    "refund_df['section'][(refund_df['refund']<200000) & (refund_df['refund']>=180000)] = '18~20'\n",
    "refund_df['section'][(refund_df['refund']>=200000)] = '20이상'\n",
    "\n",
    "refund_df = pd.crosstab(refund_df['section'], refund_df['has_paid'])\n",
    "refund_df['합'] = refund_df[0] + refund_df[1]\n",
    "refund_df['결제비율(%)'] = round(refund_df[1] / refund_df['합'],3) * 100\n",
    "refund_df\n"
   ]
  },
  {
   "cell_type": "code",
   "execution_count": 15,
   "id": "altered-cutting",
   "metadata": {},
   "outputs": [
    {
     "data": {
      "image/png": "[encoded data removed]",
      "text/plain": [
       "<Figure size 1152x576 with 1 Axes>"
      ]
     },
     "metadata": {
      "needs_background": "light"
     },
     "output_type": "display_data"
    }
   ],
   "source": [
    "plt.figure(figsize=(16,8))\n",
    "sns.barplot(data=refund_df, x=refund_df.index,\n",
    "            order=['0 이하','0~2','2~4','4~6','6~8','8~10','10~12','12~14',\n",
    "                '14~16','16~18','18~20','20이상'],\n",
    "            y='결제비율(%)')\n",
    "plt.title('환급금액 별 결제비율(단위: 만원)', fontsize=20);"
   ]
  },
  {
   "cell_type": "markdown",
   "id": "musical-assist",
   "metadata": {},
   "source": [
    "- 환급금액이 적은 구간에서는 금액이 상승할수록 결제비율이 높아진다\n",
    "- 하지만 2만원 이후로는 70% 내외를 유지하다가 10만원 이후로 소폭 하락한다.\n",
    "- **환급금액은 미약하지만 결제여부와 관계가 조금은 있다고 볼 수 있다.**"
   ]
  },
  {
   "cell_type": "markdown",
   "id": "binary-speed",
   "metadata": {},
   "source": [
    "**5. 수수료와 결제여부 (fee - has_paid)**  \n",
    "수수료의 간격은 적은 구간에서만 2천원, 3천원 차이로 나누었고, 5천원 이후부터는 5천원 단위로 나누었다."
   ]
  },
  {
   "cell_type": "code",
   "execution_count": 16,
   "id": "substantial-enzyme",
   "metadata": {},
   "outputs": [
    {
     "data": {
      "text/html": [
       "<div>\n",
       "<style scoped>\n",
       "    .dataframe tbody tr th:only-of-type {\n",
       "        vertical-align: middle;\n",
       "    }\n",
       "\n",
       "    .dataframe tbody tr th {\n",
       "        vertical-align: top;\n",
       "    }\n",
       "\n",
       "    .dataframe thead th {\n",
       "        text-align: right;\n",
       "    }\n",
       "</style>\n",
       "<table border=\"1\" class=\"dataframe\">\n",
       "  <thead>\n",
       "    <tr style=\"text-align: right;\">\n",
       "      <th>has_paid</th>\n",
       "      <th>False</th>\n",
       "      <th>True</th>\n",
       "      <th>합</th>\n",
       "      <th>결제비율(%)</th>\n",
       "    </tr>\n",
       "    <tr>\n",
       "      <th>section</th>\n",
       "      <th></th>\n",
       "      <th></th>\n",
       "      <th></th>\n",
       "      <th></th>\n",
       "    </tr>\n",
       "  </thead>\n",
       "  <tbody>\n",
       "    <tr>\n",
       "      <th>0.2~0.5</th>\n",
       "      <td>6296</td>\n",
       "      <td>15228</td>\n",
       "      <td>21524</td>\n",
       "      <td>70.7</td>\n",
       "    </tr>\n",
       "    <tr>\n",
       "      <th>0.2이하</th>\n",
       "      <td>13660</td>\n",
       "      <td>26201</td>\n",
       "      <td>39861</td>\n",
       "      <td>65.7</td>\n",
       "    </tr>\n",
       "    <tr>\n",
       "      <th>0.5~1</th>\n",
       "      <td>5728</td>\n",
       "      <td>11076</td>\n",
       "      <td>16804</td>\n",
       "      <td>65.9</td>\n",
       "    </tr>\n",
       "    <tr>\n",
       "      <th>1.5~2</th>\n",
       "      <td>1335</td>\n",
       "      <td>1457</td>\n",
       "      <td>2792</td>\n",
       "      <td>52.2</td>\n",
       "    </tr>\n",
       "    <tr>\n",
       "      <th>10이상</th>\n",
       "      <td>131</td>\n",
       "      <td>30</td>\n",
       "      <td>161</td>\n",
       "      <td>18.6</td>\n",
       "    </tr>\n",
       "    <tr>\n",
       "      <th>1~1.5</th>\n",
       "      <td>2910</td>\n",
       "      <td>5630</td>\n",
       "      <td>8540</td>\n",
       "      <td>65.9</td>\n",
       "    </tr>\n",
       "    <tr>\n",
       "      <th>2.5~3</th>\n",
       "      <td>1194</td>\n",
       "      <td>1192</td>\n",
       "      <td>2386</td>\n",
       "      <td>50.0</td>\n",
       "    </tr>\n",
       "    <tr>\n",
       "      <th>2~2.5</th>\n",
       "      <td>1502</td>\n",
       "      <td>1749</td>\n",
       "      <td>3251</td>\n",
       "      <td>53.8</td>\n",
       "    </tr>\n",
       "    <tr>\n",
       "      <th>3.5~4</th>\n",
       "      <td>531</td>\n",
       "      <td>402</td>\n",
       "      <td>933</td>\n",
       "      <td>43.1</td>\n",
       "    </tr>\n",
       "    <tr>\n",
       "      <th>3~3.5</th>\n",
       "      <td>833</td>\n",
       "      <td>741</td>\n",
       "      <td>1574</td>\n",
       "      <td>47.1</td>\n",
       "    </tr>\n",
       "    <tr>\n",
       "      <th>4.5~5</th>\n",
       "      <td>209</td>\n",
       "      <td>124</td>\n",
       "      <td>333</td>\n",
       "      <td>37.2</td>\n",
       "    </tr>\n",
       "    <tr>\n",
       "      <th>4~4.5</th>\n",
       "      <td>517</td>\n",
       "      <td>500</td>\n",
       "      <td>1017</td>\n",
       "      <td>49.2</td>\n",
       "    </tr>\n",
       "    <tr>\n",
       "      <th>5.5~6</th>\n",
       "      <td>75</td>\n",
       "      <td>36</td>\n",
       "      <td>111</td>\n",
       "      <td>32.4</td>\n",
       "    </tr>\n",
       "    <tr>\n",
       "      <th>5~5.5</th>\n",
       "      <td>144</td>\n",
       "      <td>106</td>\n",
       "      <td>250</td>\n",
       "      <td>42.4</td>\n",
       "    </tr>\n",
       "    <tr>\n",
       "      <th>6.5~7</th>\n",
       "      <td>48</td>\n",
       "      <td>25</td>\n",
       "      <td>73</td>\n",
       "      <td>34.2</td>\n",
       "    </tr>\n",
       "    <tr>\n",
       "      <th>6~6.5</th>\n",
       "      <td>91</td>\n",
       "      <td>69</td>\n",
       "      <td>160</td>\n",
       "      <td>43.1</td>\n",
       "    </tr>\n",
       "    <tr>\n",
       "      <th>7.5~8</th>\n",
       "      <td>24</td>\n",
       "      <td>15</td>\n",
       "      <td>39</td>\n",
       "      <td>38.5</td>\n",
       "    </tr>\n",
       "    <tr>\n",
       "      <th>7~7.5</th>\n",
       "      <td>43</td>\n",
       "      <td>30</td>\n",
       "      <td>73</td>\n",
       "      <td>41.1</td>\n",
       "    </tr>\n",
       "    <tr>\n",
       "      <th>8.5~9</th>\n",
       "      <td>20</td>\n",
       "      <td>8</td>\n",
       "      <td>28</td>\n",
       "      <td>28.6</td>\n",
       "    </tr>\n",
       "    <tr>\n",
       "      <th>8~8.5</th>\n",
       "      <td>22</td>\n",
       "      <td>10</td>\n",
       "      <td>32</td>\n",
       "      <td>31.2</td>\n",
       "    </tr>\n",
       "    <tr>\n",
       "      <th>9.5~10</th>\n",
       "      <td>20</td>\n",
       "      <td>6</td>\n",
       "      <td>26</td>\n",
       "      <td>23.1</td>\n",
       "    </tr>\n",
       "    <tr>\n",
       "      <th>9~9.5</th>\n",
       "      <td>24</td>\n",
       "      <td>8</td>\n",
       "      <td>32</td>\n",
       "      <td>25.0</td>\n",
       "    </tr>\n",
       "  </tbody>\n",
       "</table>\n",
       "</div>"
      ],
      "text/plain": [
       "has_paid  False   True      합  결제비율(%)\n",
       "section                               \n",
       "0.2~0.5    6296  15228  21524     70.7\n",
       "0.2이하     13660  26201  39861     65.7\n",
       "0.5~1      5728  11076  16804     65.9\n",
       "1.5~2      1335   1457   2792     52.2\n",
       "10이상        131     30    161     18.6\n",
       "1~1.5      2910   5630   8540     65.9\n",
       "2.5~3      1194   1192   2386     50.0\n",
       "2~2.5      1502   1749   3251     53.8\n",
       "3.5~4       531    402    933     43.1\n",
       "3~3.5       833    741   1574     47.1\n",
       "4.5~5       209    124    333     37.2\n",
       "4~4.5       517    500   1017     49.2\n",
       "5.5~6        75     36    111     32.4\n",
       "5~5.5       144    106    250     42.4\n",
       "6.5~7        48     25     73     34.2\n",
       "6~6.5        91     69    160     43.1\n",
       "7.5~8        24     15     39     38.5\n",
       "7~7.5        43     30     73     41.1\n",
       "8.5~9        20      8     28     28.6\n",
       "8~8.5        22     10     32     31.2\n",
       "9.5~10       20      6     26     23.1\n",
       "9~9.5        24      8     32     25.0"
      ]
     },
     "execution_count": 16,
     "metadata": {},
     "output_type": "execute_result"
    }
   ],
   "source": [
    "# 수수료는 높아질수록 결제 비율이 낮아졌다.\n",
    "fee_df = df.copy()\n",
    "fee_df['section'] = ''\n",
    "fee_df['section'][fee_df['fee']<=1000] = '0.2이하'\n",
    "fee_df['section'][(fee_df['fee']<5000) & (fee_df['fee']>1000)] = '0.2~0.5'\n",
    "fee_df['section'][(fee_df['fee']<10000) & (fee_df['fee']>=5000)] = '0.5~1'\n",
    "fee_df['section'][(fee_df['fee']<15000) & (fee_df['fee']>=10000)] = '1~1.5'\n",
    "fee_df['section'][(fee_df['fee']<20000) & (fee_df['fee']>=15000)] = '1.5~2'\n",
    "fee_df['section'][(fee_df['fee']<25000) & (fee_df['fee']>=20000)] = '2~2.5'\n",
    "fee_df['section'][(fee_df['fee']<30000) & (fee_df['fee']>=25000)] = '2.5~3'\n",
    "fee_df['section'][(fee_df['fee']<35000) & (fee_df['fee']>=30000)] = '3~3.5'\n",
    "fee_df['section'][(fee_df['fee']<40000) & (fee_df['fee']>=35000)] = '3.5~4'\n",
    "fee_df['section'][(fee_df['fee']<45000) & (fee_df['fee']>=40000)] = '4~4.5'\n",
    "fee_df['section'][(fee_df['fee']<50000) & (fee_df['fee']>=45000)] = '4.5~5'\n",
    "fee_df['section'][(fee_df['fee']<55000) & (fee_df['fee']>=50000)] = '5~5.5'\n",
    "fee_df['section'][(fee_df['fee']<60000) & (fee_df['fee']>=55000)] = '5.5~6'\n",
    "fee_df['section'][(fee_df['fee']<65000) & (fee_df['fee']>=60000)] = '6~6.5'\n",
    "fee_df['section'][(fee_df['fee']<70000) & (fee_df['fee']>=65000)] = '6.5~7'\n",
    "fee_df['section'][(fee_df['fee']<75000) & (fee_df['fee']>=70000)] = '7~7.5'\n",
    "fee_df['section'][(fee_df['fee']<80000) & (fee_df['fee']>=75000)] = '7.5~8'\n",
    "fee_df['section'][(fee_df['fee']<85000) & (fee_df['fee']>=80000)] = '8~8.5'\n",
    "fee_df['section'][(fee_df['fee']<90000) & (fee_df['fee']>=85000)] = '8.5~9'\n",
    "fee_df['section'][(fee_df['fee']<95000) & (fee_df['fee']>=90000)] = '9~9.5'\n",
    "fee_df['section'][(fee_df['fee']<100000) & (fee_df['fee']>=95000)] = '9.5~10'\n",
    "fee_df['section'][(fee_df['fee']>=100000)] = '10이상'\n",
    "\n",
    "fee_df = pd.crosstab(fee_df['section'], fee_df['has_paid'])\n",
    "fee_df['합'] = fee_df[0] + fee_df[1]\n",
    "fee_df['결제비율(%)'] = round(fee_df[1] / fee_df['합'],3) * 100\n",
    "fee_df"
   ]
  },
  {
   "cell_type": "code",
   "execution_count": 17,
   "id": "french-audit",
   "metadata": {},
   "outputs": [
    {
     "data": {
      "image/png": "[encoded data removed]",
      "text/plain": [
       "<Figure size 1728x1152 with 1 Axes>"
      ]
     },
     "metadata": {
      "needs_background": "light"
     },
     "output_type": "display_data"
    }
   ],
   "source": [
    "plt.figure(figsize=(24,16))\n",
    "sns.barplot(data=fee_df, x=fee_df.index,\n",
    "            order=['0.2이하','0.2~0.5','0.5~1','1~1.5','1.5~2','2~2.5','2.5~3','3~3.5',\n",
    "                    '3.5~4','4~4.5','5~5.5','5.5~6','6~6.5','6.5~7','7~7.5','7.5~8',\n",
    "                    '8~8.5','8.5~9','9~9.5','9.5~10','10이상'],\n",
    "            y='결제비율(%)')\n",
    "plt.title('수수료 별 결제비율(단위: 만원)', fontsize=20);"
   ]
  },
  {
   "cell_type": "markdown",
   "id": "specified-connecticut",
   "metadata": {},
   "source": [
    "- 수수료가 올라가도 결제비율이 일정 수준을 유지하다가 1.5만원을 기점으로 급격하게 하락한다.\n",
    "- 그 이후로도 수수료가 상승할수록 결제비율은 내려가는 그래프의 형태이다.\n",
    "- **수수료는 결제여부와 관련이 있다고 볼 수 있다.**"
   ]
  },
  {
   "cell_type": "markdown",
   "id": "conservative-explorer",
   "metadata": {},
   "source": [
    "**6. 근로소득과 결제여부 (income_근로 - has_paid)**  \n",
    "근로소득의 간격은 최초 0원에서 시작하여 10만원, 그 이후로는 10배씩의 구간으로 나누었다."
   ]
  },
  {
   "cell_type": "code",
   "execution_count": 18,
   "id": "antique-pixel",
   "metadata": {
    "scrolled": false
   },
   "outputs": [
    {
     "data": {
      "text/html": [
       "<div>\n",
       "<style scoped>\n",
       "    .dataframe tbody tr th:only-of-type {\n",
       "        vertical-align: middle;\n",
       "    }\n",
       "\n",
       "    .dataframe tbody tr th {\n",
       "        vertical-align: top;\n",
       "    }\n",
       "\n",
       "    .dataframe thead th {\n",
       "        text-align: right;\n",
       "    }\n",
       "</style>\n",
       "<table border=\"1\" class=\"dataframe\">\n",
       "  <thead>\n",
       "    <tr style=\"text-align: right;\">\n",
       "      <th>has_paid</th>\n",
       "      <th>False</th>\n",
       "      <th>True</th>\n",
       "      <th>합</th>\n",
       "      <th>결제비율(%)</th>\n",
       "    </tr>\n",
       "    <tr>\n",
       "      <th>section</th>\n",
       "      <th></th>\n",
       "      <th></th>\n",
       "      <th></th>\n",
       "      <th></th>\n",
       "    </tr>\n",
       "  </thead>\n",
       "  <tbody>\n",
       "    <tr>\n",
       "      <th>0~10만</th>\n",
       "      <td>159</td>\n",
       "      <td>404</td>\n",
       "      <td>563</td>\n",
       "      <td>71.8</td>\n",
       "    </tr>\n",
       "    <tr>\n",
       "      <th>0원</th>\n",
       "      <td>23370</td>\n",
       "      <td>36738</td>\n",
       "      <td>60108</td>\n",
       "      <td>61.1</td>\n",
       "    </tr>\n",
       "    <tr>\n",
       "      <th>1000만~1억</th>\n",
       "      <td>2894</td>\n",
       "      <td>6086</td>\n",
       "      <td>8980</td>\n",
       "      <td>67.8</td>\n",
       "    </tr>\n",
       "    <tr>\n",
       "      <th>100만~1000만</th>\n",
       "      <td>7286</td>\n",
       "      <td>17551</td>\n",
       "      <td>24837</td>\n",
       "      <td>70.7</td>\n",
       "    </tr>\n",
       "    <tr>\n",
       "      <th>10만~100만</th>\n",
       "      <td>1646</td>\n",
       "      <td>3859</td>\n",
       "      <td>5505</td>\n",
       "      <td>70.1</td>\n",
       "    </tr>\n",
       "    <tr>\n",
       "      <th>1억이상</th>\n",
       "      <td>2</td>\n",
       "      <td>5</td>\n",
       "      <td>7</td>\n",
       "      <td>71.4</td>\n",
       "    </tr>\n",
       "  </tbody>\n",
       "</table>\n",
       "</div>"
      ],
      "text/plain": [
       "has_paid    False   True      합  결제비율(%)\n",
       "section                                 \n",
       "0~10만         159    404    563     71.8\n",
       "0원          23370  36738  60108     61.1\n",
       "1000만~1억     2894   6086   8980     67.8\n",
       "100만~1000만   7286  17551  24837     70.7\n",
       "10만~100만     1646   3859   5505     70.1\n",
       "1억이상            2      5      7     71.4"
      ]
     },
     "execution_count": 18,
     "metadata": {},
     "output_type": "execute_result"
    }
   ],
   "source": [
    "incomeW_df = df.copy()\n",
    "incomeW_df['section'] = ''\n",
    "\n",
    "incomeW_df['section'][(incomeW_df['income_근로']==0)] = '0원'\n",
    "incomeW_df['section'][(incomeW_df['income_근로']<100000) & (incomeW_df['income_근로']>0)] = '0~10만'\n",
    "incomeW_df['section'][(incomeW_df['income_근로']<1000000) & (incomeW_df['income_근로']>=100000)] = '10만~100만'\n",
    "incomeW_df['section'][(incomeW_df['income_근로']<10000000) & (incomeW_df['income_근로']>=1000000)] = '100만~1000만'\n",
    "incomeW_df['section'][(incomeW_df['income_근로']<100000000) & (incomeW_df['income_근로']>=10000000)] = '1000만~1억'\n",
    "incomeW_df['section'][(incomeW_df['income_근로']>=100000000)] = '1억이상'\n",
    "\n",
    "incomeW_df = pd.crosstab(incomeW_df['section'], incomeW_df['has_paid'])\n",
    "\n",
    "incomeW_df['합'] = incomeW_df[0] + incomeW_df[1]\n",
    "incomeW_df['결제비율(%)'] = round(incomeW_df[1] / incomeW_df['합'],3) * 100\n",
    "incomeW_df"
   ]
  },
  {
   "cell_type": "code",
   "execution_count": 19,
   "id": "collaborative-expansion",
   "metadata": {},
   "outputs": [
    {
     "data": {
      "image/png": "[encoded data removed]",
      "text/plain": [
       "<Figure size 720x576 with 1 Axes>"
      ]
     },
     "metadata": {
      "needs_background": "light"
     },
     "output_type": "display_data"
    }
   ],
   "source": [
    "plt.figure(figsize=(10,8))\n",
    "sns.barplot(data=incomeW_df, x=incomeW_df.index, \n",
    "            order=['0원','0~10만','10만~100만','100만~1000만','1000만~1억','1억이상'],\n",
    "            y='결제비율(%)')\n",
    "plt.title('근로소득 별 결제비율', fontsize=20);"
   ]
  },
  {
   "cell_type": "markdown",
   "id": "opened-nigeria",
   "metadata": {},
   "source": [
    "- 근로소득으로 분류했을 때 0원을 제외한 모든 분류에서 70%정도 결제비율을 기록하고 있다.\n",
    "- 근로소득이 없던 사람이 상대적으로 적은 비율이지만 전체 결제율과 비슷한 60%정도를 기록했다.\n",
    "- **근로소득은 결제여부와 관련이 없다고 할 수 있다.**"
   ]
  },
  {
   "cell_type": "markdown",
   "id": "detailed-building",
   "metadata": {},
   "source": [
    "**7. 사업소득과 결제여부 (income_사업 - has_paid)**  \n",
    "사업소득의 간격은 최초 0원에서 시작하여 10만원, 그 이후로는 10배의 절반의 구간으로 나누었다."
   ]
  },
  {
   "cell_type": "code",
   "execution_count": 20,
   "id": "convertible-moment",
   "metadata": {},
   "outputs": [
    {
     "data": {
      "text/html": [
       "<div>\n",
       "<style scoped>\n",
       "    .dataframe tbody tr th:only-of-type {\n",
       "        vertical-align: middle;\n",
       "    }\n",
       "\n",
       "    .dataframe tbody tr th {\n",
       "        vertical-align: top;\n",
       "    }\n",
       "\n",
       "    .dataframe thead th {\n",
       "        text-align: right;\n",
       "    }\n",
       "</style>\n",
       "<table border=\"1\" class=\"dataframe\">\n",
       "  <thead>\n",
       "    <tr style=\"text-align: right;\">\n",
       "      <th>has_paid</th>\n",
       "      <th>False</th>\n",
       "      <th>True</th>\n",
       "      <th>합</th>\n",
       "      <th>결제비율(%)</th>\n",
       "    </tr>\n",
       "    <tr>\n",
       "      <th>section</th>\n",
       "      <th></th>\n",
       "      <th></th>\n",
       "      <th></th>\n",
       "      <th></th>\n",
       "    </tr>\n",
       "  </thead>\n",
       "  <tbody>\n",
       "    <tr>\n",
       "      <th>0~10만</th>\n",
       "      <td>4654</td>\n",
       "      <td>8269</td>\n",
       "      <td>12923</td>\n",
       "      <td>64.0</td>\n",
       "    </tr>\n",
       "    <tr>\n",
       "      <th>0원</th>\n",
       "      <td>12636</td>\n",
       "      <td>9194</td>\n",
       "      <td>21830</td>\n",
       "      <td>42.1</td>\n",
       "    </tr>\n",
       "    <tr>\n",
       "      <th>1000만이상</th>\n",
       "      <td>763</td>\n",
       "      <td>715</td>\n",
       "      <td>1478</td>\n",
       "      <td>48.4</td>\n",
       "    </tr>\n",
       "    <tr>\n",
       "      <th>100만~500만</th>\n",
       "      <td>7022</td>\n",
       "      <td>16198</td>\n",
       "      <td>23220</td>\n",
       "      <td>69.8</td>\n",
       "    </tr>\n",
       "    <tr>\n",
       "      <th>10만~50만</th>\n",
       "      <td>5147</td>\n",
       "      <td>17188</td>\n",
       "      <td>22335</td>\n",
       "      <td>77.0</td>\n",
       "    </tr>\n",
       "    <tr>\n",
       "      <th>500만~1000만</th>\n",
       "      <td>1837</td>\n",
       "      <td>2735</td>\n",
       "      <td>4572</td>\n",
       "      <td>59.8</td>\n",
       "    </tr>\n",
       "    <tr>\n",
       "      <th>50만~100만</th>\n",
       "      <td>3298</td>\n",
       "      <td>10344</td>\n",
       "      <td>13642</td>\n",
       "      <td>75.8</td>\n",
       "    </tr>\n",
       "  </tbody>\n",
       "</table>\n",
       "</div>"
      ],
      "text/plain": [
       "has_paid    False   True      합  결제비율(%)\n",
       "section                                 \n",
       "0~10만        4654   8269  12923     64.0\n",
       "0원          12636   9194  21830     42.1\n",
       "1000만이상       763    715   1478     48.4\n",
       "100만~500만    7022  16198  23220     69.8\n",
       "10만~50만      5147  17188  22335     77.0\n",
       "500만~1000만   1837   2735   4572     59.8\n",
       "50만~100만     3298  10344  13642     75.8"
      ]
     },
     "execution_count": 20,
     "metadata": {},
     "output_type": "execute_result"
    }
   ],
   "source": [
    "incomeB_df = df.copy()\n",
    "incomeB_df['section'] = ''\n",
    "\n",
    "incomeB_df['section'][incomeB_df['income_사업'] == 0] = '0원'\n",
    "incomeB_df['section'][(incomeB_df['income_사업']<100000) & (incomeB_df['income_사업']>0)] = '0~10만'\n",
    "incomeB_df['section'][(incomeB_df['income_사업']<500000) & (incomeB_df['income_사업']>=100000)] = '10만~50만'\n",
    "incomeB_df['section'][(incomeB_df['income_사업']<1000000) & (incomeB_df['income_사업']>=500000)] = '50만~100만'\n",
    "incomeB_df['section'][(incomeB_df['income_사업']<5000000) & (incomeB_df['income_사업']>=1000000)] = '100만~500만'\n",
    "incomeB_df['section'][(incomeB_df['income_사업']<10000000) & (incomeB_df['income_사업']>=5000000)] = '500만~1000만'\n",
    "incomeB_df['section'][(incomeB_df['income_사업']>=10000000)] = '1000만이상'\n",
    "\n",
    "incomeB_df = pd.crosstab(incomeB_df['section'], incomeB_df['has_paid'])\n",
    "\n",
    "incomeB_df['합'] = incomeB_df[0] + incomeB_df[1]\n",
    "incomeB_df['결제비율(%)'] = round(incomeB_df[1] / incomeB_df['합'],3) * 100\n",
    "incomeB_df"
   ]
  },
  {
   "cell_type": "code",
   "execution_count": 21,
   "id": "nonprofit-rapid",
   "metadata": {},
   "outputs": [
    {
     "data": {
      "image/png": "[encoded data removed]",
      "text/plain": [
       "<Figure size 720x576 with 1 Axes>"
      ]
     },
     "metadata": {
      "needs_background": "light"
     },
     "output_type": "display_data"
    }
   ],
   "source": [
    "plt.figure(figsize=(10,8))\n",
    "sns.barplot(data=incomeB_df, x=incomeB_df.index, \n",
    "            order=['0원','0~10만','10만~50만','50만~100만','100만~500만','500만~1000만','1000만이상'],\n",
    "            y='결제비율(%)')\n",
    "plt.title('사업소득 별 결제비율', fontsize=20);"
   ]
  },
  {
   "cell_type": "markdown",
   "id": "following-ordinary",
   "metadata": {},
   "source": [
    "- 사업소득이 올라가면서 결제비율이 대폭 상승했다.\n",
    "- 하지만 100만원을 기점으로 그 이상에서 하락한다.\n",
    "- **사업소득과 결제여부와 어느정도 관련이 있다고 볼 수 있다.**"
   ]
  },
  {
   "cell_type": "markdown",
   "id": "referenced-partner",
   "metadata": {},
   "source": [
    "**8. 기타소득과 결제여부 (income_기타 - has_paid)**  \n",
    "기타소득의 간격은 사업소득과 마찬가지로 최초 0원에서 시작하여 10만원, 그 이후로는 10배의 절반의 구간으로 나누었다."
   ]
  },
  {
   "cell_type": "code",
   "execution_count": 22,
   "id": "auburn-attachment",
   "metadata": {
    "scrolled": false
   },
   "outputs": [
    {
     "data": {
      "text/html": [
       "<div>\n",
       "<style scoped>\n",
       "    .dataframe tbody tr th:only-of-type {\n",
       "        vertical-align: middle;\n",
       "    }\n",
       "\n",
       "    .dataframe tbody tr th {\n",
       "        vertical-align: top;\n",
       "    }\n",
       "\n",
       "    .dataframe thead th {\n",
       "        text-align: right;\n",
       "    }\n",
       "</style>\n",
       "<table border=\"1\" class=\"dataframe\">\n",
       "  <thead>\n",
       "    <tr style=\"text-align: right;\">\n",
       "      <th>has_paid</th>\n",
       "      <th>False</th>\n",
       "      <th>True</th>\n",
       "      <th>합</th>\n",
       "      <th>결제비율(%)</th>\n",
       "    </tr>\n",
       "    <tr>\n",
       "      <th>section</th>\n",
       "      <th></th>\n",
       "      <th></th>\n",
       "      <th></th>\n",
       "      <th></th>\n",
       "    </tr>\n",
       "  </thead>\n",
       "  <tbody>\n",
       "    <tr>\n",
       "      <th>0~10만</th>\n",
       "      <td>2388</td>\n",
       "      <td>5296</td>\n",
       "      <td>7684</td>\n",
       "      <td>68.9</td>\n",
       "    </tr>\n",
       "    <tr>\n",
       "      <th>0원</th>\n",
       "      <td>26828</td>\n",
       "      <td>48060</td>\n",
       "      <td>74888</td>\n",
       "      <td>64.2</td>\n",
       "    </tr>\n",
       "    <tr>\n",
       "      <th>1000만이상</th>\n",
       "      <td>64</td>\n",
       "      <td>34</td>\n",
       "      <td>98</td>\n",
       "      <td>34.7</td>\n",
       "    </tr>\n",
       "    <tr>\n",
       "      <th>100만~500만</th>\n",
       "      <td>1480</td>\n",
       "      <td>1920</td>\n",
       "      <td>3400</td>\n",
       "      <td>56.5</td>\n",
       "    </tr>\n",
       "    <tr>\n",
       "      <th>10만~50만</th>\n",
       "      <td>3238</td>\n",
       "      <td>7039</td>\n",
       "      <td>10277</td>\n",
       "      <td>68.5</td>\n",
       "    </tr>\n",
       "    <tr>\n",
       "      <th>500만~1000만</th>\n",
       "      <td>230</td>\n",
       "      <td>124</td>\n",
       "      <td>354</td>\n",
       "      <td>35.0</td>\n",
       "    </tr>\n",
       "    <tr>\n",
       "      <th>50만~100만</th>\n",
       "      <td>1129</td>\n",
       "      <td>2170</td>\n",
       "      <td>3299</td>\n",
       "      <td>65.8</td>\n",
       "    </tr>\n",
       "  </tbody>\n",
       "</table>\n",
       "</div>"
      ],
      "text/plain": [
       "has_paid    False   True      합  결제비율(%)\n",
       "section                                 \n",
       "0~10만        2388   5296   7684     68.9\n",
       "0원          26828  48060  74888     64.2\n",
       "1000만이상        64     34     98     34.7\n",
       "100만~500만    1480   1920   3400     56.5\n",
       "10만~50만      3238   7039  10277     68.5\n",
       "500만~1000만    230    124    354     35.0\n",
       "50만~100만     1129   2170   3299     65.8"
      ]
     },
     "execution_count": 22,
     "metadata": {},
     "output_type": "execute_result"
    }
   ],
   "source": [
    "incomeE_df = df.copy()\n",
    "incomeE_df['section'] = ''\n",
    "\n",
    "incomeE_df['section'][incomeE_df['income_기타'] == 0] = '0원'\n",
    "incomeE_df['section'][(incomeE_df['income_기타']<100000) & (incomeE_df['income_기타']>0)] = '0~10만'\n",
    "incomeE_df['section'][(incomeE_df['income_기타']<500000) & (incomeE_df['income_기타']>=100000)] = '10만~50만'\n",
    "incomeE_df['section'][(incomeE_df['income_기타']<1000000) & (incomeE_df['income_기타']>=500000)] = '50만~100만'\n",
    "incomeE_df['section'][(incomeE_df['income_기타']<5000000) & (incomeE_df['income_기타']>=1000000)] = '100만~500만'\n",
    "incomeE_df['section'][(incomeE_df['income_기타']<10000000) & (incomeE_df['income_기타']>=5000000)] = '500만~1000만'\n",
    "incomeE_df['section'][(incomeE_df['income_기타']>=10000000)] = '1000만이상'\n",
    "\n",
    "incomeE_df = pd.crosstab(incomeE_df['section'], incomeE_df['has_paid'])\n",
    "incomeE_df['합'] = incomeE_df[0] + incomeE_df[1]\n",
    "incomeE_df['결제비율(%)'] = round(incomeE_df[1] / incomeE_df['합'],3) * 100\n",
    "incomeE_df"
   ]
  },
  {
   "cell_type": "code",
   "execution_count": 23,
   "id": "alive-latex",
   "metadata": {},
   "outputs": [
    {
     "data": {
      "image/png": "[encoded data removed]",
      "text/plain": [
       "<Figure size 720x576 with 1 Axes>"
      ]
     },
     "metadata": {
      "needs_background": "light"
     },
     "output_type": "display_data"
    }
   ],
   "source": [
    "plt.figure(figsize=(10,8))\n",
    "sns.barplot(data=incomeE_df, x=incomeE_df.index,\n",
    "            order=['0원','0~10만','10만~50만','50만~100만','100만~500만','500만~1000만','1000만이상'],\n",
    "            y='결제비율(%)')\n",
    "plt.title('기타소득 별 결제비율', fontsize=20);"
   ]
  },
  {
   "cell_type": "markdown",
   "id": "greatest-exclusion",
   "metadata": {},
   "source": [
    "- 기타소득은 낮은 금액에서 올라가더라도 결제비율이 일정 수준을 유지하다가 100만원을 기점으로 그 이상에서 급격하게 하락한다.\n",
    "- **기타소득은 결제여부와 어느정도 관련이 있다고 볼 수 있다.**"
   ]
  },
  {
   "cell_type": "markdown",
   "id": "advanced-population",
   "metadata": {},
   "source": [
    "**9. 연도별 데이터 확인**  \n",
    "위 차트중 2020년에서 결제비율이 급감한 것을 확인했었다. 따라서 2020년의 데이터가 다른 해와 무엇이 다른지 확인해본다."
   ]
  },
  {
   "cell_type": "code",
   "execution_count": 24,
   "id": "expected-sodium",
   "metadata": {},
   "outputs": [
    {
     "data": {
      "text/html": [
       "<div>\n",
       "<style scoped>\n",
       "    .dataframe tbody tr th:only-of-type {\n",
       "        vertical-align: middle;\n",
       "    }\n",
       "\n",
       "    .dataframe tbody tr th {\n",
       "        vertical-align: top;\n",
       "    }\n",
       "\n",
       "    .dataframe thead th {\n",
       "        text-align: right;\n",
       "    }\n",
       "</style>\n",
       "<table border=\"1\" class=\"dataframe\">\n",
       "  <thead>\n",
       "    <tr style=\"text-align: right;\">\n",
       "      <th></th>\n",
       "      <th>age</th>\n",
       "      <th>refund</th>\n",
       "      <th>fee</th>\n",
       "      <th>has_paid</th>\n",
       "      <th>income_근로</th>\n",
       "      <th>income_사업</th>\n",
       "      <th>income_기타</th>\n",
       "    </tr>\n",
       "    <tr>\n",
       "      <th>year</th>\n",
       "      <th></th>\n",
       "      <th></th>\n",
       "      <th></th>\n",
       "      <th></th>\n",
       "      <th></th>\n",
       "      <th></th>\n",
       "      <th></th>\n",
       "    </tr>\n",
       "  </thead>\n",
       "  <tbody>\n",
       "    <tr>\n",
       "      <th>2015</th>\n",
       "      <td>30.748808</td>\n",
       "      <td>162656.210790</td>\n",
       "      <td>4396.461731</td>\n",
       "      <td>0.710665</td>\n",
       "      <td>4.291267e+05</td>\n",
       "      <td>7.168088e+05</td>\n",
       "      <td>32737.766625</td>\n",
       "    </tr>\n",
       "    <tr>\n",
       "      <th>2016</th>\n",
       "      <td>30.553511</td>\n",
       "      <td>171084.237763</td>\n",
       "      <td>5579.752749</td>\n",
       "      <td>0.697046</td>\n",
       "      <td>1.993295e+06</td>\n",
       "      <td>9.055580e+05</td>\n",
       "      <td>151482.714008</td>\n",
       "    </tr>\n",
       "    <tr>\n",
       "      <th>2017</th>\n",
       "      <td>29.636296</td>\n",
       "      <td>176735.467276</td>\n",
       "      <td>5852.214919</td>\n",
       "      <td>0.697571</td>\n",
       "      <td>2.125833e+06</td>\n",
       "      <td>9.553367e+05</td>\n",
       "      <td>150700.428694</td>\n",
       "    </tr>\n",
       "    <tr>\n",
       "      <th>2018</th>\n",
       "      <td>28.836261</td>\n",
       "      <td>179430.415853</td>\n",
       "      <td>5994.825602</td>\n",
       "      <td>0.694991</td>\n",
       "      <td>2.542636e+06</td>\n",
       "      <td>9.500879e+05</td>\n",
       "      <td>154357.203623</td>\n",
       "    </tr>\n",
       "    <tr>\n",
       "      <th>2019</th>\n",
       "      <td>28.228049</td>\n",
       "      <td>173935.226946</td>\n",
       "      <td>5831.383744</td>\n",
       "      <td>0.694799</td>\n",
       "      <td>3.115681e+06</td>\n",
       "      <td>8.984142e+05</td>\n",
       "      <td>135792.150465</td>\n",
       "    </tr>\n",
       "    <tr>\n",
       "      <th>2020</th>\n",
       "      <td>28.148179</td>\n",
       "      <td>314651.459087</td>\n",
       "      <td>12021.541502</td>\n",
       "      <td>0.485241</td>\n",
       "      <td>3.364365e+06</td>\n",
       "      <td>2.034195e+06</td>\n",
       "      <td>222154.402489</td>\n",
       "    </tr>\n",
       "  </tbody>\n",
       "</table>\n",
       "</div>"
      ],
      "text/plain": [
       "            age         refund           fee  has_paid     income_근로  \\\n",
       "year                                                                   \n",
       "2015  30.748808  162656.210790   4396.461731  0.710665  4.291267e+05   \n",
       "2016  30.553511  171084.237763   5579.752749  0.697046  1.993295e+06   \n",
       "2017  29.636296  176735.467276   5852.214919  0.697571  2.125833e+06   \n",
       "2018  28.836261  179430.415853   5994.825602  0.694991  2.542636e+06   \n",
       "2019  28.228049  173935.226946   5831.383744  0.694799  3.115681e+06   \n",
       "2020  28.148179  314651.459087  12021.541502  0.485241  3.364365e+06   \n",
       "\n",
       "         income_사업      income_기타  \n",
       "year                               \n",
       "2015  7.168088e+05   32737.766625  \n",
       "2016  9.055580e+05  151482.714008  \n",
       "2017  9.553367e+05  150700.428694  \n",
       "2018  9.500879e+05  154357.203623  \n",
       "2019  8.984142e+05  135792.150465  \n",
       "2020  2.034195e+06  222154.402489  "
      ]
     },
     "execution_count": 24,
     "metadata": {},
     "output_type": "execute_result"
    }
   ],
   "source": [
    "df.groupby('year').mean()"
   ]
  },
  {
   "cell_type": "markdown",
   "id": "raising-makeup",
   "metadata": {},
   "source": [
    "- 위 8개의 차트 자료중 수수료, 사업소득, 기타소득이 올라갈 때 결제 비율이 떨어지는 것을 확인했었다.\n",
    "- 그런데 2020년은 다른해에 비해 환급금액, 수수료, 사업소득, 기타소득이 늘어났다.\n",
    "- 특히 그 중에서도 수수료의 상승 비율이 가장 크다."
   ]
  },
  {
   "cell_type": "markdown",
   "id": "changed-document",
   "metadata": {},
   "source": [
    "### **2) 정리**\n",
    "- 위 자료를 확인해봤을때 결제여부와 가장 연관성이 있는것은 **수수료**라고 생각한다.\n",
    "- 수수료 차트만 보아도 환급금액을 조회한 후 **수수료가 일정금액에서 비싸지면 결제하기를 꺼려했을 것**으로 예상할 수 있다.\n",
    "- 무료배송을 위해 물건을 추가로 구매하거나 주차요금을 아끼기 위해 먼곳이더라도 무료주차장에 주차하는 것처럼 당장의 지출을 아까워하며 다른 방법을 찾는 심리가 여기서도 똑같이 적용했다고 볼 수 있다."
   ]
  },
  {
   "cell_type": "markdown",
   "id": "functioning-cocktail",
   "metadata": {},
   "source": [
    "## **4. 고객의 수수료 결제금액의 합을 높히기 위해서는 어떻게 해야할까?**"
   ]
  },
  {
   "cell_type": "markdown",
   "id": "continental-confidentiality",
   "metadata": {},
   "source": [
    "### **1) 수수료(fee)와 상관관계가 높은 컬럼으로 접근**"
   ]
  },
  {
   "cell_type": "markdown",
   "id": "postal-administrator",
   "metadata": {},
   "source": [
    "수수료와 모든 컬럼간의 상관관계를 확인해보자"
   ]
  },
  {
   "cell_type": "code",
   "execution_count": 25,
   "id": "synthetic-movie",
   "metadata": {},
   "outputs": [
    {
     "data": {
      "image/png": "[encoded data removed]",
      "text/plain": [
       "<Figure size 720x720 with 2 Axes>"
      ]
     },
     "metadata": {
      "needs_background": "light"
     },
     "output_type": "display_data"
    }
   ],
   "source": [
    "corr = df.corr()\n",
    "plt.figure(figsize=(10, 10))\n",
    "sns.heatmap(corr, vmax=0.8, linewidths=0.01, square=True, annot=True, cmap='YlGnBu');\n",
    "plt.title('특징들간의 Correlation', fontsize=20);"
   ]
  },
  {
   "cell_type": "markdown",
   "id": "built-toddler",
   "metadata": {},
   "source": [
    "- 환급금액과 수수료는 굉장히 강한 양의 상관관계를 형성하고 있다.\n",
    "- 또 이 두가지는 사업소득과 기타소득 두가지와 양의 상관관계를 형성하고 있다.\n",
    "- 따라서 사업소득과 기타소득이 높으면 수수료도 높아진다고 말할 수 있다.  \n",
    "\n",
    "=> ***사업소득과 기타소득이 높은 고객을 잡는다면 고액의 수수료를 확보하며, 회사수익을 늘릴 수 있다.***"
   ]
  },
  {
   "cell_type": "markdown",
   "id": "gorgeous-program",
   "metadata": {},
   "source": [
    "**그렇다면 사업소득, 기타소득 중 하나의 타겟층을 제시해야 한다면 어느 고객을 타겟층으로 잡을것인가?**  \n",
    "전체고객, 사업소득 일정금액 이상, 기타소득 일정금액 이상. 이렇게 3가지로 나누어서 평균적인 수수료를 알아보면서 어떤 고객층이 수수료가 더 많이 나오는지 확인해본다."
   ]
  },
  {
   "cell_type": "code",
   "execution_count": 26,
   "id": "conceptual-apollo",
   "metadata": {},
   "outputs": [
    {
     "name": "stdout",
     "output_type": "stream",
     "text": [
      "<전체 조회 고객>\n",
      "결제한 사람의 전체 수수료 평균: 6209.5원\n",
      "결제하지 않은 사람의 전체 수수료 평균: 9145.7원\n"
     ]
    }
   ],
   "source": [
    "true_df = df[df['has_paid'] == True]\n",
    "false_df = df[df['has_paid'] == False]\n",
    "print('<전체 조회 고객>')\n",
    "print('결제한 사람의 전체 수수료 평균: {}원'.format(round(true_df.describe().loc['mean','fee'],1)))\n",
    "print('결제하지 않은 사람의 전체 수수료 평균: {}원'.format(round(false_df.describe().loc['mean','fee'],1)))"
   ]
  },
  {
   "cell_type": "code",
   "execution_count": 27,
   "id": "filled-disorder",
   "metadata": {},
   "outputs": [
    {
     "name": "stdout",
     "output_type": "stream",
     "text": [
      "<사업소득 100만원 이상 기준, 전체인원: 29270>\n",
      "결제한 사람의 전체 수수료 평균: 13873.1원\n",
      "결제하지 않은 사람의 전체 수수료 평균: 19809.8원\n",
      "\n",
      "<사업소득 500만원 이상 기준, 전체인원: 6050>\n",
      "결제한 사람의 전체 수수료 평균: 28469.8원\n",
      "결제하지 않은 사람의 전체 수수료 평균: 33906.2원\n",
      "\n",
      "<사업소득 1000만원 이상 기준, 전체인원: 1478>\n",
      "결제한 사람의 전체 수수료 평균: 40007.6원\n",
      "결제하지 않은 사람의 전체 수수료 평균: 40863.6원\n"
     ]
    }
   ],
   "source": [
    "Bhigh100_true_df = true_df[true_df['income_사업'] >= 1000000]\n",
    "Bhigh100_false_df = false_df[false_df['income_사업'] >= 1000000]\n",
    "Bhigh500_true_df = true_df[true_df['income_사업'] >= 5000000]\n",
    "Bhigh500_false_df = false_df[false_df['income_사업'] >= 5000000]\n",
    "Bhigh1000_true_df = true_df[true_df['income_사업'] >= 10000000]\n",
    "Bhigh1000_false_df = false_df[false_df['income_사업'] >= 10000000]\n",
    "\n",
    "print('<사업소득 100만원 이상 기준, 전체인원: {}>'. format(len(Bhigh100_true_df)+len(Bhigh100_false_df)))\n",
    "print('결제한 사람의 전체 수수료 평균: {}원'.format(round(Bhigh100_true_df.describe().loc['mean','fee'],1)))\n",
    "print('결제하지 않은 사람의 전체 수수료 평균: {}원'.format(round(Bhigh100_false_df.describe().loc['mean','fee'],1)))\n",
    "print('\\n<사업소득 500만원 이상 기준, 전체인원: {}>'. format(len(Bhigh500_true_df)+len(Bhigh500_false_df)))\n",
    "print('결제한 사람의 전체 수수료 평균: {}원'.format(round(Bhigh500_true_df.describe().loc['mean','fee'],1)))\n",
    "print('결제하지 않은 사람의 전체 수수료 평균: {}원'.format(round(Bhigh500_false_df.describe().loc['mean','fee'],1)))\n",
    "print('\\n<사업소득 1000만원 이상 기준, 전체인원: {}>'. format(len(Bhigh1000_true_df)+len(Bhigh1000_false_df)))\n",
    "print('결제한 사람의 전체 수수료 평균: {}원'.format(round(Bhigh1000_true_df.describe().loc['mean','fee'],1)))\n",
    "print('결제하지 않은 사람의 전체 수수료 평균: {}원'.format(round(Bhigh1000_false_df.describe().loc['mean','fee'],1)))"
   ]
  },
  {
   "cell_type": "code",
   "execution_count": 28,
   "id": "broke-folks",
   "metadata": {
    "scrolled": false
   },
   "outputs": [
    {
     "name": "stdout",
     "output_type": "stream",
     "text": [
      "<기타소득 100만원 이상 기준, 전체인원: 3852>\n",
      "결제한 사람의 전체 수수료 평균: 22678.9원\n",
      "결제하지 않은 사람의 전체 수수료 평균: 39889.9원\n",
      "\n",
      "<기타소득 500만원 이상 기준, 전체인원: 452>\n",
      "결제한 사람의 전체 수수료 평균: 63083.5원\n",
      "결제하지 않은 사람의 전체 수수료 평균: 95511.6원\n",
      "\n",
      "<기타소득 1000만원 이상 기준, 전체인원: 98>\n",
      "결제한 사람의 전체 수수료 평균: 112588.2원\n",
      "결제하지 않은 사람의 전체 수수료 평균: 150345.3원\n"
     ]
    }
   ],
   "source": [
    "Ehigh100_true_df = true_df[true_df['income_기타'] >= 1000000]\n",
    "Ehigh100_false_df = false_df[false_df['income_기타'] >= 1000000]\n",
    "Ehigh500_true_df = true_df[true_df['income_기타'] >= 5000000]\n",
    "Ehigh500_false_df = false_df[false_df['income_기타'] >= 5000000]\n",
    "Ehigh1000_true_df = true_df[true_df['income_기타'] >= 10000000]\n",
    "Ehigh1000_false_df = false_df[false_df['income_기타'] >= 10000000]\n",
    "\n",
    "print('<기타소득 100만원 이상 기준, 전체인원: {}>'. format(len(Ehigh100_true_df)+len(Ehigh100_false_df)))\n",
    "print('결제한 사람의 전체 수수료 평균: {}원'.format(round(Ehigh100_true_df.describe().loc['mean','fee'],1))) \n",
    "print('결제하지 않은 사람의 전체 수수료 평균: {}원'.format(round(Ehigh100_false_df.describe().loc['mean','fee'],1)))\n",
    "print('\\n<기타소득 500만원 이상 기준, 전체인원: {}>'. format(len(Ehigh500_true_df)+len(Ehigh500_false_df)))\n",
    "print('결제한 사람의 전체 수수료 평균: {}원'.format(round(Ehigh500_true_df.describe().loc['mean','fee'],1)))\n",
    "print('결제하지 않은 사람의 전체 수수료 평균: {}원'.format(round(Ehigh500_false_df.describe().loc['mean','fee'],1)))\n",
    "print('\\n<기타소득 1000만원 이상 기준, 전체인원: {}>'. format(len(Ehigh1000_true_df)+len(Ehigh1000_false_df)))\n",
    "print('결제한 사람의 전체 수수료 평균: {}원'.format(round(Ehigh1000_true_df.describe().loc['mean','fee'],1)))\n",
    "print('결제하지 않은 사람의 전체 수수료 평균: {}원'.format(round(Ehigh1000_false_df.describe().loc['mean','fee'],1)))"
   ]
  },
  {
   "cell_type": "markdown",
   "id": "annoying-benefit",
   "metadata": {},
   "source": [
    "<위 데이터로 간단한 비교를 해보자>  \n",
    "사업소득과 기타소득 각각 100만원 이상인 인원 중 10%가 추가적으로 더 결제를 한다면?\n",
    "1. 사업소득  \n",
    "    100만원 이상인 인원: 29270명  \n",
    "    그 중 10% 인원: 2927명  \n",
    "    결제하지 않은 고객의 수수료 평균: 19809.8원  \n",
    "    **기대할 수 있는 수입: 약5798만원**  \n",
    "  \n",
    "2. 기타소득  \n",
    "    100만원 이상인 인원: 3852명  \n",
    "    그 중 10% 인원: 385.2명  \n",
    "    결제하지 않은 고객의 수수료 평균: 39889.9원  \n",
    "    **기대할 수 있는 수입: 약1537만원**"
   ]
  },
  {
   "cell_type": "markdown",
   "id": "cellular-ridge",
   "metadata": {},
   "source": [
    "- 사업&기타소득 모두 고액으로 필터링 할수록 평균 수수료 금액이 상승.\n",
    "- 사업소득에 비해 기타소득의 수수료가 2~4배정도 크지만, 해당하는 인원은 사업소득이 10배 정도의 차이로 더 많다.\n",
    "- 위 비교를 봤을 때 결제하는 비율이 같이 증가되었을 때 기대되는 이익은 사업소득 쪽이 약 4배 정도 더 크다. \n",
    "- 따라서 기타소득보다 **사업소득이 높은 고객을 더 많이 잡는 것이 유리**하다고 본다."
   ]
  },
  {
   "cell_type": "markdown",
   "id": "remarkable-broadway",
   "metadata": {},
   "source": [
    "이렇게 본다면 사업소득이 높은 고객을 타겟팅으로 해서 수수료결제의 합을 높이는 것을 기대할 수 있다.  \n",
    "하지만 1번 문제에서 확인했듯이 **수수료가 높아지면 결제를 꺼려하는 경향**이 있기 때문에 이들을 결제까지 유도할 수 있는 방안이 필요하다."
   ]
  },
  {
   "cell_type": "markdown",
   "id": "lined-adapter",
   "metadata": {},
   "source": [
    "### **2) 서비스를 조회하는 사람들의 특징으로 접근**  \n",
    "어떤 사람들이 서비스 조회를 많이 했는지 3가지 수입의 데이터로 확인해본다."
   ]
  },
  {
   "cell_type": "code",
   "execution_count": 29,
   "id": "permanent-tuning",
   "metadata": {},
   "outputs": [
    {
     "data": {
      "text/plain": [
       "근x사o기x    38432\n",
       "근o사o기x    27132\n",
       "근x사x기x     9226\n",
       "근o사x기o     6992\n",
       "근x사o기o     6936\n",
       "근o사o기o     5670\n",
       "근x사x기o     5514\n",
       "근o사x기x       98\n",
       "Name: income, dtype: int64"
      ]
     },
     "execution_count": 29,
     "metadata": {},
     "output_type": "execute_result"
    }
   ],
   "source": [
    "check_df = df.copy()\n",
    "check_df['income'] = ''\n",
    "check_df['income'][(check_df['income_근로'] == 0) & (check_df['income_사업'] == 0) & (check_df['income_기타'] == 0)] = '근x사x기x'\n",
    "check_df['income'][(check_df['income_근로'] != 0) & (check_df['income_사업'] == 0) & (check_df['income_기타'] == 0)] = '근o사x기x'\n",
    "check_df['income'][(check_df['income_근로'] != 0) & (check_df['income_사업'] != 0) & (check_df['income_기타'] == 0)] = '근o사o기x'\n",
    "check_df['income'][(check_df['income_근로'] != 0) & (check_df['income_사업'] != 0) & (check_df['income_기타'] != 0)] = '근o사o기o'\n",
    "check_df['income'][(check_df['income_근로'] == 0) & (check_df['income_사업'] != 0) & (check_df['income_기타'] == 0)] = '근x사o기x'\n",
    "check_df['income'][(check_df['income_근로'] == 0) & (check_df['income_사업'] != 0) & (check_df['income_기타'] != 0)] = '근x사o기o'\n",
    "check_df['income'][(check_df['income_근로'] == 0) & (check_df['income_사업'] == 0) & (check_df['income_기타'] != 0)] = '근x사x기o'\n",
    "check_df['income'][(check_df['income_근로'] != 0) & (check_df['income_사업'] == 0) & (check_df['income_기타'] != 0)] = '근o사x기o'\n",
    "check_df['income'].value_counts()\n"
   ]
  },
  {
   "cell_type": "code",
   "execution_count": 30,
   "id": "retired-insight",
   "metadata": {},
   "outputs": [
    {
     "data": {
      "image/png": "[encoded data removed]",
      "text/plain": [
       "<Figure size 1152x720 with 1 Axes>"
      ]
     },
     "metadata": {
      "needs_background": "light"
     },
     "output_type": "display_data"
    }
   ],
   "source": [
    "plt.figure(figsize=(16,10))\n",
    "sns.countplot(data=check_df, x='income')\n",
    "plt.title('소득유무 별 서비스 조회수', fontsize=20);"
   ]
  },
  {
   "cell_type": "markdown",
   "id": "enabling-madrid",
   "metadata": {},
   "source": [
    "- 위 그래프를 통해 알 수 있듯이 최근 5년간 조회한 고객의 수입 내역을 봤을 때 '사업소득'이 있는 경우가 압도적으로 많았다.\n",
    "- 실제로 '근로소득'은 대부분 연말정산으로 신고하고, '기타소득'은 그 케이스가 한정적이기 때문에 종합소득세 신고는 '사업소득'이 많다.\n",
    "- 따라서 신규고객 유치를 위한 타겟팅을 한다면, **사업소득이 있는 사람**에게 하는 것이 마땅하다 생각한다."
   ]
  },
  {
   "cell_type": "markdown",
   "id": "portuguese-baking",
   "metadata": {},
   "source": [
    "### **3) 정리**\n",
    "1. 사업소득이 높은 고객을 결제까지 유도한다면 높은 수수료 수익을 기대할 수 있다. 따라서 이에 해당하는 고객을 타겟층으로 설정하고 사업소득별로 구분을 짓고 차등하여 혜택을 주는 것을 제안한다.  \n",
    "    예) 소득이 높아질 수록 수수료의 할인 비율을 높여준다.   \n",
    "    사업소득 100만 ~ 500만 - 수수료 5% 감면,  \n",
    "    사업소득 500만 ~ 1000만 - 수수료 7% 감면,  \n",
    "    사업소득 1000만이상 - 수수료 10% 감면\n",
    "2. 신규회원 유치를 위해 최초 결제 고객중 사업소득이 있는 고객을 타겟층으로 설정하고 프로모션 이벤트를 기획해 보는것을 제안한다."
   ]
  },
  {
   "cell_type": "code",
   "execution_count": null,
   "id": "appointed-longer",
   "metadata": {},
   "outputs": [],
   "source": []
  }
 ],
 "metadata": {
  "kernelspec": {
   "display_name": "Python 3",
   "language": "python",
   "name": "python3"
  },
  "language_info": {
   "codemirror_mode": {
    "name": "ipython",
    "version": 3
   },
   "file_extension": ".py",
   "mimetype": "text/x-python",
   "name": "python",
   "nbconvert_exporter": "python",
   "pygments_lexer": "ipython3",
   "version": "3.9.1"
  }
 },
 "nbformat": 4,
 "nbformat_minor": 5
}
